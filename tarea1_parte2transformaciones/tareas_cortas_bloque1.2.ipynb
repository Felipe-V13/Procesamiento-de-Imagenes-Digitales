{
 "cells": [
  {
   "cell_type": "markdown",
   "id": "1db8789b-69a1-438c-bcbf-b5d850bf1a48",
   "metadata": {
    "kernel": "SoS"
   },
   "source": [
    "<h1 style=\"text-align: center;\"><strong>Tareas Cortas - Bloque 1.2</strong></h1>\n",
    "\n",
    "\n",
    "<ul>\n",
    "<li><strong>Curso:</strong> CE5201: Procesamiento y An&aacute;lisis de Im&aacute;genes Digitales</li>\n",
    "<li><strong>Estudiante:</strong> Luis Felipe Vargas Jimenez</li>\n",
    "<li><strong>Carnet:</strong> 2020211831<br /><br /></li>\n",
    "<li><strong>Pregunta:</strong> 2<br /><br /></li>\n",
    "</ul>"
   ]
  },
  {
   "cell_type": "code",
   "execution_count": 57,
   "id": "eea373f0",
   "metadata": {},
   "outputs": [],
   "source": [
    "import cv2\n",
    "\n",
    "from skimage.util import random_noise\n",
    "from skimage.filters import median\n",
    "from skimage.metrics import structural_similarity as ssim\n",
    "from skimage import img_as_float\n",
    "import matplotlib.pyplot as plt\n",
    "import numpy as np\n",
    "import matplotlib.pyplot as plt"
   ]
  },
  {
   "cell_type": "code",
   "execution_count": 58,
   "id": "9eed3c57",
   "metadata": {
    "kernel": "Octave",
    "scrolled": true
   },
   "outputs": [
    {
     "name": "stdout",
     "output_type": "stream",
     "text": [
      "Error: No se pudo cargar la imagen en la ruta imagen1.jpg. Verifica la ruta y el nombre del archivo.\n"
     ]
    }
   ],
   "source": [
    "\n",
    "# Ruta a la imagen\n",
    "image_path = 'imagen1.jpg'\n",
    "\n",
    "# Leer la imagen\n",
    "A = cv2.imread(image_path)\n",
    "\n",
    "# Verificar si la imagen se cargó correctamente\n",
    "if A is None:\n",
    "    print(f\"Error: No se pudo cargar la imagen en la ruta {image_path}. Verifica la ruta y el nombre del archivo.\")\n",
    "else:\n",
    "    # Convertir de BGR a RGB\n",
    "    A = cv2.cvtColor(A, cv2.COLOR_BGR2RGB)\n",
    "\n",
    "    # Mostrar la imagen original\n",
    "    plt.subplot(1, 3, 1)\n",
    "    plt.imshow(A)\n",
    "    plt.axis('off')\n",
    "    plt.title(\"Imagen Original\")\n",
    "\n",
    "    # Eliminar ruido (Sal y Pimienta) de una imagen\n",
    "    Y = random_noise(A, mode='s&p', amount=0.05)\n",
    "    Y = np.array(255 * Y, dtype='uint8')  # Convertir a formato de imagen\n",
    "    plt.subplot(1, 3, 2)\n",
    "    plt.imshow(Y)\n",
    "    plt.axis('off')\n",
    "    plt.title(\"Imagen con Ruido\")\n",
    "\n",
    "    # Limpiar ruido sal y pimienta con filtro de la mediana\n",
    "    Z = median(Y, behavior='ndimage')\n",
    "    plt.subplot(1, 3, 3)\n",
    "    plt.imshow(Z)\n",
    "    plt.axis('off')\n",
    "    plt.title(\"Imagen Filtrada\")\n",
    "\n",
    "    # Convertir imágenes a float para el cálculo del error\n",
    "    A_float = img_as_float(A)\n",
    "    Z_float = img_as_float(Z)\n",
    "\n",
    "    # Calcular el error MSE (Mean Squared Error)\n",
    "    mse_error = np.mean((A_float - Z_float) ** 2)\n",
    "\n",
    "    # Calcular el índice SSIM (Structural Similarity Index) con un tamaño de ventana adecuado\n",
    "    ssim_index = ssim(A, Z, win_size=7, channel_axis=2)\n",
    "\n",
    "    # Mostrar los resultados de error\n",
    "    print(f\"Error MSE: {mse_error}\")\n",
    "    print(f\"Índice SSIM: {ssim_index}\")\n",
    "\n",
    "    # Mostrar todas las imágenes\n",
    "    plt.show()\n"
   ]
  },
  {
   "cell_type": "code",
   "execution_count": 59,
   "id": "5b3bc9f6-4b99-4c84-9bd1-f1acc66512d6",
   "metadata": {
    "kernel": "Python 3 (ipykernel)"
   },
   "outputs": [
    {
     "name": "stdout",
     "output_type": "stream",
     "text": [
      "Error: No se pudo cargar la imagen en la ruta imagen4.jpg. Verifica la ruta y el nombre del archivo.\n"
     ]
    }
   ],
   "source": [
    "# Ruta a la imagen\n",
    "image_path = 'imagen4.jpg'\n",
    "\n",
    "# Leer la imagen\n",
    "A = cv2.imread(image_path)\n",
    "\n",
    "# Verificar si la imagen se cargó correctamente\n",
    "if A is None:\n",
    "    print(f\"Error: No se pudo cargar la imagen en la ruta {image_path}. Verifica la ruta y el nombre del archivo.\")\n",
    "else:\n",
    "    # Convertir de BGR a RGB para la visualización con Matplotlib\n",
    "    A_rgb = cv2.cvtColor(A, cv2.COLOR_BGR2RGB)\n",
    "\n",
    "    # Convertir la imagen a escala de grises\n",
    "    B = cv2.cvtColor(A, cv2.COLOR_BGR2GRAY)\n",
    "\n",
    "    # Mostrar la imagen original en color\n",
    "    plt.subplot(1, 2, 1)\n",
    "    plt.imshow(A_rgb)\n",
    "    plt.axis('off')\n",
    "    plt.title(\"Imagen Original\")\n",
    "\n",
    "    # Mostrar la imagen en escala de grises\n",
    "    plt.subplot(1, 2, 2)\n",
    "    plt.imshow(B, cmap='gray')\n",
    "    plt.axis('off')\n",
    "    plt.title(\"Imagen en Escala de Grises\")\n",
    "\n",
    "    # Mostrar ambas imágenes\n",
    "    plt.show()"
   ]
  },
  {
   "cell_type": "code",
   "execution_count": 60,
   "id": "4ff3313e",
   "metadata": {},
   "outputs": [
    {
     "name": "stdout",
     "output_type": "stream",
     "text": [
      "Error: No se pudo cargar la imagen en la ruta imagen2.jpg. Verifica la ruta y el nombre del archivo.\n"
     ]
    }
   ],
   "source": [
    "# Ruta a la imagen\n",
    "image_path = 'imagen2.jpg'\n",
    "\n",
    "# Leer la imagen\n",
    "A = cv2.imread(image_path)\n",
    "\n",
    "# Verificar si la imagen se cargó correctamente\n",
    "if A is None:\n",
    "    print(f\"Error: No se pudo cargar la imagen en la ruta {image_path}. Verifica la ruta y el nombre del archivo.\")\n",
    "else:\n",
    "    # Convertir de BGR a RGB para la visualización con Matplotlib\n",
    "    A_rgb = cv2.cvtColor(A, cv2.COLOR_BGR2RGB)\n",
    "\n",
    "    # Convertir la imagen a escala de grises (necesario para CLAHE)\n",
    "    A_gray = cv2.cvtColor(A, cv2.COLOR_BGR2GRAY)\n",
    "\n",
    "    # Aplicar CLAHE (Contrast Limited Adaptive Histogram Equalization)\n",
    "    clahe = cv2.createCLAHE(clipLimit=3.0, tileGridSize=(8, 8))\n",
    "    B = clahe.apply(A_gray)\n",
    "\n",
    "    # Convertir de vuelta a RGB para mostrar junto a la imagen original\n",
    "    B_rgb = cv2.cvtColor(B, cv2.COLOR_GRAY2RGB)\n",
    "\n",
    "    # Mostrar la imagen original\n",
    "    plt.subplot(1, 2, 1)\n",
    "    plt.imshow(A_rgb)\n",
    "    plt.axis('off')\n",
    "    plt.title(\"Imagen Original\")\n",
    "\n",
    "    # Mostrar la imagen con contraste intensificado\n",
    "    plt.subplot(1, 2, 2)\n",
    "    plt.imshow(B_rgb)\n",
    "    plt.axis('off')\n",
    "    plt.title(\"Imagen con Contraste Intensificado\")\n",
    "\n",
    "    # Mostrar ambas imágenes\n",
    "    plt.show()"
   ]
  },
  {
   "cell_type": "code",
   "execution_count": 61,
   "id": "069bc563",
   "metadata": {},
   "outputs": [
    {
     "name": "stdout",
     "output_type": "stream",
     "text": [
      "Error: No se pudo cargar la imagen en la ruta imagen1.jpg. Verifica la ruta y el nombre del archivo.\n"
     ]
    }
   ],
   "source": [
    "import cv2\n",
    "import matplotlib.pyplot as plt\n",
    "\n",
    "# Ruta a la imagen\n",
    "image_path = 'imagen1.jpg'\n",
    "\n",
    "# Leer la imagen\n",
    "A = cv2.imread(image_path)\n",
    "\n",
    "# Verificar si la imagen se cargó correctamente\n",
    "if A is None:\n",
    "    print(f\"Error: No se pudo cargar la imagen en la ruta {image_path}. Verifica la ruta y el nombre del archivo.\")\n",
    "else:\n",
    "    # Convertir de BGR a RGB para la visualización con Matplotlib\n",
    "    A_rgb = cv2.cvtColor(A, cv2.COLOR_BGR2RGB)\n",
    "\n",
    "    # Redimensionar la imagen a 256x256\n",
    "    B = cv2.resize(A_rgb, (256, 256))\n",
    "\n",
    "    # Rotar la imagen 45 grados\n",
    "    (h, w) = A_rgb.shape[:2]\n",
    "    center = (w // 2, h // 2)\n",
    "    M = cv2.getRotationMatrix2D(center, 45, 1.0)\n",
    "    C = cv2.warpAffine(A_rgb, M, (w, h))\n",
    "\n",
    "    # Ajustar el tamaño de la figura\n",
    "    plt.figure(figsize=(10, 5))  # Incrementar el tamaño de la figura\n",
    "\n",
    "    # Mostrar la imagen original\n",
    "    plt.subplot(1, 3, 1)\n",
    "    plt.imshow(A_rgb)\n",
    "    plt.axis('off')\n",
    "    plt.title(\"Imagen Original\")\n",
    "\n",
    "    # Mostrar la imagen redimensionada\n",
    "    plt.subplot(1, 3, 2)\n",
    "    plt.imshow(B)\n",
    "    plt.axis('off')\n",
    "    plt.title(\"Imagen Redimensionada\")\n",
    "\n",
    "    # Mostrar la imagen rotada\n",
    "    plt.subplot(1, 3, 3)\n",
    "    plt.imshow(C)\n",
    "    plt.axis('off')\n",
    "    plt.title(\"Imagen Rotada 45°\")\n",
    "\n",
    "    # Mostrar todas las imágenes\n",
    "    plt.show()\n"
   ]
  },
  {
   "cell_type": "code",
   "execution_count": 62,
   "id": "3d7c8ca2",
   "metadata": {},
   "outputs": [
    {
     "name": "stdout",
     "output_type": "stream",
     "text": [
      "Error: No se pudo cargar la imagen en la ruta imagen3.jpg. Verifica la ruta y el nombre del archivo.\n"
     ]
    }
   ],
   "source": [
    "import cv2\n",
    "import numpy as np\n",
    "from skimage.filters import threshold_otsu\n",
    "import matplotlib.pyplot as plt\n",
    "\n",
    "# Ruta a la imagen\n",
    "image_path = 'imagen3.jpg'\n",
    "\n",
    "# Leer la imagen\n",
    "A = cv2.imread(image_path)\n",
    "\n",
    "# Verificar si la imagen se cargó correctamente\n",
    "if A is None:\n",
    "    print(f\"Error: No se pudo cargar la imagen en la ruta {image_path}. Verifica la ruta y el nombre del archivo.\")\n",
    "else:\n",
    "    # Convertir de BGR a RGB para la visualización con Matplotlib\n",
    "    A_rgb = cv2.cvtColor(A, cv2.COLOR_BGR2RGB)\n",
    "\n",
    "    # Convertir la imagen a escala de grises\n",
    "    A_gray = cv2.cvtColor(A, cv2.COLOR_BGR2GRAY)\n",
    "\n",
    "    # Detectar bordes usando el detector de Canny\n",
    "    B = cv2.Canny(A_gray, 100, 200)\n",
    "\n",
    "    # Calcular un umbral utilizando Otsu\n",
    "    C = threshold_otsu(A_gray)\n",
    "\n",
    "    # Segmentar la imagen utilizando el umbral calculado\n",
    "    D = A_gray > C\n",
    "\n",
    "    # Mostrar la imagen original\n",
    "    plt.subplot(1, 3, 1)\n",
    "    plt.imshow(A_rgb)\n",
    "    plt.axis('off')\n",
    "    plt.title(\"Imagen Original\")\n",
    "\n",
    "    # Mostrar la imagen con detección de bordes\n",
    "    plt.subplot(1, 3, 2)\n",
    "    plt.imshow(B, cmap='gray')\n",
    "    plt.axis('off')\n",
    "    plt.title(\"Detección de Bordes\")\n",
    "\n",
    "    # Mostrar la imagen segmentada\n",
    "    plt.subplot(1, 3, 3)\n",
    "    plt.imshow(D, cmap='gray')\n",
    "    plt.axis('off')\n",
    "    plt.title(\"Imagen Segmentada\")\n",
    "\n",
    "    # Mostrar todas las imágenes\n",
    "    plt.show()\n"
   ]
  }
 ],
 "metadata": {
  "kernelspec": {
   "display_name": "Python 3",
   "language": "python",
   "name": "python3"
  },
  "language_info": {
   "codemirror_mode": {
    "name": "ipython",
    "version": 3
   },
   "file_extension": ".py",
   "mimetype": "text/x-python",
   "name": "python",
   "nbconvert_exporter": "python",
   "pygments_lexer": "ipython3",
   "version": "3.12.2"
  },
  "sos": {
   "kernels": [
    [
     "Octave",
     "octave",
     "octave",
     "",
     ""
    ],
    [
     "Python 3 (ipykernel)",
     "python3",
     "python3",
     "",
     ""
    ]
   ],
   "version": ""
  }
 },
 "nbformat": 4,
 "nbformat_minor": 5
}
